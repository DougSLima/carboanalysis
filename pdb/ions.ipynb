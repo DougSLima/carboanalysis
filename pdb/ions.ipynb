{
 "cells": [
  {
   "cell_type": "code",
   "execution_count": 13,
   "metadata": {},
   "outputs": [
    {
     "name": "stderr",
     "output_type": "stream",
     "text": [
      "/tmp/ipykernel_317179/456550355.py:5: FutureWarning: The default value of regex will change from True to False in a future version.\n",
      "  ions_df['entry'] = ions_df['entry'].str.replace('.cif', '')\n"
     ]
    }
   ],
   "source": [
    "import pandas as pd\n",
    "\n",
    "ions_df = pd.read_csv('/home/douglas/ions.csv', sep=';', header=None, names= ['entry', 'ions'])\n",
    "\n",
    "ions_df['entry'] = ions_df['entry'].str.replace('.cif', '') \n",
    "\n",
    "ions_df = ions_df.drop_duplicates()"
   ]
  },
  {
   "cell_type": "code",
   "execution_count": 12,
   "metadata": {},
   "outputs": [],
   "source": [
    "import pandas as pd\n",
    "\n",
    "df = pd.read_csv('/home/douglas/carboanalysis/carboanalysis/pdb/dataframes/puckering/piranoses_clean_family_and_protein_name_entry_name.csv')\n",
    "df = df.iloc[:, 4:]\n",
    "\n",
    "cbm_df = df[df['Family'].str.contains('CBM')]\n"
   ]
  },
  {
   "cell_type": "code",
   "execution_count": null,
   "metadata": {},
   "outputs": [],
   "source": [
    "#Merge\n",
    "import pandas as pd\n",
    "\n",
    "# Realizar o merge dos dois DataFrames com base nos IDs correspondentes\n",
    "merged_df = ions_df.merge(cbm_df[['sugar_entry', 'Family']], \n",
    "                          left_on='entry', \n",
    "                          right_on='sugar_entry', \n",
    "                          how='left')\n",
    "\n",
    "# O 'Family' de cbm_df será adicionado como uma nova coluna em ions_df\n",
    "ions_df['Family'] = merged_df['Family']\n",
    "\n",
    "\n"
   ]
  },
  {
   "cell_type": "code",
   "execution_count": 24,
   "metadata": {},
   "outputs": [
    {
     "name": "stderr",
     "output_type": "stream",
     "text": [
      "/tmp/ipykernel_317179/895203420.py:2: FutureWarning: The default value of regex will change from True to False in a future version.\n",
      "  ions_df['entry'] = ions_df['entry'].str.replace('.cif', '')\n"
     ]
    }
   ],
   "source": [
    "ions_df = ions_df.dropna()\n",
    "ions_df['entry'] = ions_df['entry'].str.replace('.cif', '')"
   ]
  },
  {
   "cell_type": "code",
   "execution_count": 25,
   "metadata": {},
   "outputs": [],
   "source": [
    "#Add sequence\n",
    "\n",
    "from SIC2023_resolution import *\n",
    "\n",
    "def add_sequence(file_name):\n",
    "\n",
    "    mmcif_dict = MMCIF2Dict(file_name)\n",
    "\n",
    "    #seq_df = pd.DataFrame(data={\"seq\": mmcif_dict['_entity_poly.pdbx_seq_one_letter_code']})\n",
    "\n",
    "    seq = mmcif_dict['_entity_poly.pdbx_seq_one_letter_code'][0]\n",
    "\n",
    "    return seq\n",
    "\n",
    "os.chdir('/home/douglas/carboanalysis/data/unzipped/')\n",
    "\n",
    "ions_df['entry'] = ions_df['entry'] + '.cif'\n",
    "\n",
    "sequences = [add_sequence(value) for value in ions_df['entry']]\n",
    "\n",
    "ions_df['sequence'] = sequences"
   ]
  },
  {
   "cell_type": "code",
   "execution_count": null,
   "metadata": {},
   "outputs": [],
   "source": [
    "import pandas as pd\n",
    "\n",
    "ions_df.to_csv('/home/douglas/ions_with_sequence.csv', sep=';')"
   ]
  },
  {
   "cell_type": "code",
   "execution_count": 13,
   "metadata": {},
   "outputs": [
    {
     "name": "stderr",
     "output_type": "stream",
     "text": [
      "/tmp/ipykernel_339167/3965342535.py:7: FutureWarning: The default value of regex will change from True to False in a future version.\n",
      "  ions_df['entry'] = ions_df['entry'].str.replace('.cif', '')\n"
     ]
    }
   ],
   "source": [
    "import pandas as pd\n",
    "\n",
    "ions_df = pd.read_csv('/home/douglas/ions_with_sequence.csv', sep=';')\n",
    "procaff_pdb_df = pd.read_csv('/home/douglas/procaff/pdb_id_procaff.txt', header=None, names=['id', 'entry'], sep='\\t')\n",
    "\n",
    "procaff_pdb_df['entry'] = procaff_pdb_df['entry'].str.lower()\n",
    "ions_df['entry'] = ions_df['entry'].str.replace('.cif', '')\n",
    "\n",
    "ions_df = ions_df[ions_df['entry'].isin(procaff_pdb_df['entry'])]\n",
    "\n",
    "ions_df.to_csv('/home/douglas/procaff/procaff_entries.csv', sep=';')"
   ]
  },
  {
   "cell_type": "code",
   "execution_count": 15,
   "metadata": {},
   "outputs": [],
   "source": [
    "import pandas as pd\n",
    "\n",
    "ions_df = pd.read_csv('/home/douglas/ions_with_sequence.csv', sep=';')\n",
    "value_count = ions_df['Family'].value_counts()"
   ]
  }
 ],
 "metadata": {
  "kernelspec": {
   "display_name": "Python 3",
   "language": "python",
   "name": "python3"
  },
  "language_info": {
   "codemirror_mode": {
    "name": "ipython",
    "version": 3
   },
   "file_extension": ".py",
   "mimetype": "text/x-python",
   "name": "python",
   "nbconvert_exporter": "python",
   "pygments_lexer": "ipython3",
   "version": "3.10.12"
  }
 },
 "nbformat": 4,
 "nbformat_minor": 2
}
