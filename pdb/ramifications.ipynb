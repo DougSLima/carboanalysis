{
 "cells": [
  {
   "cell_type": "code",
   "execution_count": 9,
   "metadata": {},
   "outputs": [
    {
     "name": "stdout",
     "output_type": "stream",
     "text": [
      "B - factor values: 2wmg.cif\n",
      "  chain1_id comp_seq_id_1 vaa atom_symbol atom_label bfactors\n",
      "0         B           NAG   1           B        GAL        2\n",
      "1         B           NAG   1           B        FUC        4\n",
      "2         B           GAL   2           B        FUC        3\n"
     ]
    }
   ],
   "source": [
    "import os\n",
    "import time\n",
    "import re\n",
    "from itertools import product\n",
    "from itertools import repeat\n",
    "import concurrent.futures\n",
    "import pandas as pd\n",
    "import statistics\n",
    "import warnings\n",
    "from multiprocessing import Process, Pool\n",
    "from pathlib import *\n",
    "from Bio.PDB import *\n",
    "from Bio.PDB.MMCIF2Dict import *\n",
    "from Bio.PDB.PDBExceptions import PDBConstructionWarning \n",
    "\n",
    "warnings.simplefilter('ignore', PDBConstructionWarning) #ignorar warning (PDBConstructionWarning: WARNING: Chain B is discontinuous at line numeroDaLinha.)\n",
    "\n",
    "def ramification(fileName):\n",
    "    \n",
    "    print(\"B - factor values: \" + fileName)\n",
    "\n",
    "    mmcif_dict = MMCIF2Dict(fileName)\n",
    "\n",
    "    entity_dict = {\"id\": mmcif_dict['_entity.id'], \n",
    "                   \"type\": mmcif_dict['_entity.type'], \n",
    "                   #\"description\": mmcif_dict['_struct_conn.ptnr1_auth_seq_id'], \n",
    "                    \"number_of_molecules\": mmcif_dict['_entity.pdbx_number_of_molecules']}\n",
    "    \n",
    "    entity_df = pd.DataFrame(data = entity_dict)\n",
    "\n",
    "    entity_df = entity_df.loc[entity_df['type'] == \"branched\"]\n",
    "\n",
    "    for index, row in entity_df.iterrows():\n",
    "        if('[' in row['description'] or ']' in row['description']):\n",
    "            # Cria um DataFrame temporário para a linha atual\n",
    "            linha = pd.DataFrame([row])\n",
    "\n",
    "            # Escreve a linha no arquivo CSV. Usa mode='a' para adicionar ao arquivo se já existir.\n",
    "            linha.to_csv('/home/douglas/carboanalysis/carboanalysis/pdb/dataframes/ramifications.csv', mode='a', header=False, index=False)\n"
   ]
  },
  {
   "cell_type": "code",
   "execution_count": 8,
   "metadata": {},
   "outputs": [
    {
     "name": "stderr",
     "output_type": "stream",
     "text": [
      "100%|██████████| 6622/6622 [23:34<00:00,  4.68it/s]  "
     ]
    },
    {
     "name": "stdout",
     "output_type": "stream",
     "text": [
      "8250.0\n"
     ]
    },
    {
     "name": "stderr",
     "output_type": "stream",
     "text": [
      "\n"
     ]
    }
   ],
   "source": [
    "#Conta oligossacarídeos\n",
    "from SIC2023_resolution import *\n",
    "from tqdm import tqdm\n",
    "import os\n",
    "import pandas as pd\n",
    "import warnings\n",
    "\n",
    "warnings.simplefilter('ignore', PDBConstructionWarning)\n",
    "def oligo_count(fileName):\n",
    "    \n",
    "    mmcif_dict = MMCIF2Dict(fileName)\n",
    "\n",
    "    entity_dict = {\"id\": mmcif_dict['_entity.id'], \n",
    "                   \"type\": mmcif_dict['_entity.type'], \n",
    "                   \"description\": mmcif_dict['_entity.pdbx_description'], \n",
    "                    \"number_of_molecules\": mmcif_dict['_entity.pdbx_number_of_molecules']}\n",
    "    \n",
    "    entity_df = pd.DataFrame(data = entity_dict)\n",
    "\n",
    "    entity_df = entity_df.loc[entity_df['type'] == \"branched\"]\n",
    "    entity_df['number_of_molecules'] = entity_df['number_of_molecules'].astype(float)\n",
    "\n",
    "    return entity_df['number_of_molecules'].sum()\n",
    "\n",
    "os.chdir(\"/home/douglas/carboanalysis/data/unzipped\")\n",
    "df = pd.read_csv(\"/home/douglas/carboanalysis/carboanalysis/pdb/dataframes/SIC/SIC2023_carbo_entrys_res_owab_filtered.txt\", names = ['entry_filename'])\n",
    "fileNames = df['entry_filename'].values\n",
    "\n",
    "# Inicializando o contador total\n",
    "total_count = 0\n",
    "\n",
    "# Iterando sobre cada filename na lista e somando os valores\n",
    "for file in tqdm(fileNames):\n",
    "    total_count += oligo_count(file)\n",
    "print(total_count)"
   ]
  },
  {
   "cell_type": "code",
   "execution_count": 10,
   "metadata": {},
   "outputs": [],
   "source": [
    "#Read\n",
    "import pandas as pd\n",
    "ramification_df = pd.read_csv('/home/douglas/carboanalysis/carboanalysis/pdb/dataframes/ramifications.csv', header=None, names = ['id', 'type', 'description', 'number_of_molecules', 'entry'])"
   ]
  },
  {
   "cell_type": "code",
   "execution_count": null,
   "metadata": {},
   "outputs": [],
   "source": [
    "#Ramificados x lineares\n",
    "ramification_df['number_of_molecules'] = ramification_df['number_of_molecules'].astype(float)\n",
    "print(ramification_df['number_of_molecules'].sum())"
   ]
  },
  {
   "cell_type": "code",
   "execution_count": null,
   "metadata": {},
   "outputs": [],
   "source": [
    "#Coleta os dados das ligações glicosídicas\n",
    "def find_linkages(fileName):\n",
    "    \n",
    "    #Cria um dicionário a partir do arquivo .cif\n",
    "    mmcif_dict = MMCIF2Dict(fileName)\n",
    "\n",
    "    try:\n",
    "        print('Linking: ' + fileName)\n",
    "\n",
    "        #Coleta informações das Branched entities\n",
    "        branch_dict = {\"entity_id\": mmcif_dict['_entity.id'], \n",
    "                        \"num_of_molecules\": mmcif_dict['_entity.pdbx_number_of_molecules']}\n",
    "\n",
    "        #Transforma num dataframe pandas\n",
    "        branch_df = pd.DataFrame(data = branch_dict)\n",
    "\n",
    "        #converte a coluna \"num_of_molecules\" para inteiro\n",
    "        branch_df['num_of_molecules'] = branch_df['num_of_molecules'].astype(int)\n",
    "\n",
    "        #Coleta informações das ligações\n",
    "        linkage_dict = {\"entry_id\": mmcif_dict['_entry.id'],\n",
    "                        \"link_id\": mmcif_dict['_pdbx_entity_branch_link.link_id'], \n",
    "                        \"entity_id\": mmcif_dict['_pdbx_entity_branch_link.entity_id'], \n",
    "                        \"branch_1_id\":  mmcif_dict['_pdbx_entity_branch_link.entity_branch_list_num_1'], \n",
    "                        \"comp_1_id\": mmcif_dict[\"_pdbx_entity_branch_link.comp_id_1\"], \n",
    "                        \"atom_1_id\": mmcif_dict['_pdbx_entity_branch_link.atom_id_1'], \n",
    "                        \"leaving_atom_1_id\": mmcif_dict['_pdbx_entity_branch_link.leaving_atom_id_1'],\n",
    "                        \"branch_2_id\":  mmcif_dict['_pdbx_entity_branch_link.entity_branch_list_num_2'], \n",
    "                        \"comp_2_id\": mmcif_dict[\"_pdbx_entity_branch_link.comp_id_2\"], \n",
    "                        \"atom_2_id\": mmcif_dict['_pdbx_entity_branch_link.atom_id_2'], \n",
    "                        \"leaving_atom_2_id\": mmcif_dict['_pdbx_entity_branch_link.leaving_atom_id_2'],\n",
    "                        \"order\": mmcif_dict['_pdbx_entity_branch_link.value_order']}\n",
    "        \n",
    "        #Transforma num dataframe pandas\n",
    "        linkage_df = pd.DataFrame(data = linkage_dict)\n",
    "        \n",
    "        #Coleta informações de nomenclatura dos açúcares\n",
    "        identifier_dict = {\"comp_id\": mmcif_dict['_pdbx_chem_comp_identifier.comp_id'], \n",
    "                        \"identifier_type\": mmcif_dict['_pdbx_chem_comp_identifier.type'], \n",
    "                        \"identifier\":  mmcif_dict['_pdbx_chem_comp_identifier.identifier']}\n",
    "        \n",
    "        #Transforma num dataframe pandas\n",
    "        identifier_df = pd.DataFrame(data = identifier_dict)\n",
    "\n",
    "        #Leva em consideração o número de moleculas de cada entidade\n",
    "        num_of_molecules_list = []\n",
    "        for index, row in linkage_df.iterrows():\n",
    "            num_of_molecules_list.append(branch_df.loc[branch_df['entity_id'] == row['entity_id'], 'num_of_molecules'].values[0])\n",
    "        \n",
    "        #Adiciona esse número como uma nova coluna do dataframe linkage_df\n",
    "        linkage_df['num_of_molecules'] = num_of_molecules_list\n",
    "        \n",
    "\n",
    "        #Escreve a informação das ligações num arquivo .csv\n",
    "        linkage_df.to_csv(path_or_buf=\"/home/douglas/carboanalysis/carboanalysis/pdb/dataframes/SIC/all_linkages_v2.csv\", mode='a', index=False, header=False, sep=\";\") \n",
    "\n",
    "    except ValueError as error:\n",
    "        return None\n",
    "    except KeyError as error:\n",
    "        return None\n"
   ]
  }
 ],
 "metadata": {
  "kernelspec": {
   "display_name": "Python 3",
   "language": "python",
   "name": "python3"
  },
  "language_info": {
   "codemirror_mode": {
    "name": "ipython",
    "version": 3
   },
   "file_extension": ".py",
   "mimetype": "text/x-python",
   "name": "python",
   "nbconvert_exporter": "python",
   "pygments_lexer": "ipython3",
   "version": "3.10.12"
  }
 },
 "nbformat": 4,
 "nbformat_minor": 2
}
